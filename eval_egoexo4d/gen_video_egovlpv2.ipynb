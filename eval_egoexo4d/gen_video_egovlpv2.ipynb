{
 "cells": [
  {
   "cell_type": "code",
   "execution_count": null,
   "metadata": {},
   "outputs": [],
   "source": [
    "import json\n",
    "import os, glob\n",
    "from tqdm import tqdm"
   ]
  },
  {
   "cell_type": "code",
   "execution_count": null,
   "metadata": {},
   "outputs": [],
   "source": [
    "set = 'val'\n",
    "with open(f'data/annotations/keystep_{set}.json', 'r') as f:\n",
    "        meta_json = json.load(f)\n",
    "takes_json = list(meta_json['annotations'].values())"
   ]
  },
  {
   "cell_type": "code",
   "execution_count": null,
   "metadata": {},
   "outputs": [],
   "source": [
    "def link_video(take_json):\n",
    "    take_uid = take_json['take_uid']\n",
    "    take_name = take_json['take_name']\n",
    "    \n",
    "    video_dir = f'/home/ubuntu/AutomataLearning/egoexo4d/data/takes/{take_name}/frame_aligned_videos/downscaled/448/'    \n",
    "    pattern = os.path.join(video_dir, 'aria*_214-1.mp4')\n",
    "    video_files = glob.glob(pattern)\n",
    "    \n",
    "    # Check if video file exists\n",
    "    if not video_files:\n",
    "        raise FileExistsError(f'No video file found for take: {take_name}')\n",
    "    source_file = video_files[0]\n",
    "    \n",
    "    target_file = f'/home/ubuntu/video_features/videos/{take_uid}.mp4'\n",
    "    \n",
    "    if os.path.exists(target_file):\n",
    "        os.remove(target_file)\n",
    "    os.symlink(source_file, target_file)\n",
    "    \n",
    "    return f'{take_uid}.mp4'"
   ]
  },
  {
   "cell_type": "code",
   "execution_count": null,
   "metadata": {},
   "outputs": [],
   "source": [
    "video_names = []\n",
    "for take_json in tqdm(takes_json):\n",
    "    try:\n",
    "        video_name = link_video(take_json)\n",
    "    except (FileExistsError, ValueError) as e:\n",
    "        print(f\"Error processing {take_json['take_name']}: {e}\")\n",
    "        continue\n",
    "    video_names.append(video_name)"
   ]
  },
  {
   "cell_type": "code",
   "execution_count": null,
   "metadata": {},
   "outputs": [],
   "source": [
    "with open('/home/ubuntu/video_features/videos/video_list.txt', 'w') as f:\n",
    "        for video_name in video_names:\n",
    "            f.write(f\"{video_name}\\n\")"
   ]
  },
  {
   "cell_type": "code",
   "execution_count": null,
   "metadata": {},
   "outputs": [],
   "source": [
    "len(video_names)"
   ]
  }
 ],
 "metadata": {
  "kernelspec": {
   "display_name": "vid_feats",
   "language": "python",
   "name": "python3"
  },
  "language_info": {
   "codemirror_mode": {
    "name": "ipython",
    "version": 3
   },
   "file_extension": ".py",
   "mimetype": "text/x-python",
   "name": "python",
   "nbconvert_exporter": "python",
   "pygments_lexer": "ipython3",
   "version": "3.9.21"
  }
 },
 "nbformat": 4,
 "nbformat_minor": 2
}

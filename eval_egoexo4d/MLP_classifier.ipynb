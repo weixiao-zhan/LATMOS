{
 "cells": [
  {
   "cell_type": "markdown",
   "metadata": {},
   "source": [
    "$$y_i = f(x_i)$$"
   ]
  },
  {
   "cell_type": "code",
   "execution_count": null,
   "metadata": {},
   "outputs": [],
   "source": [
    "import torch\n",
    "import torch.nn as nn\n",
    "import torch.optim as optim\n",
    "from torch.utils.data import TensorDataset, DataLoader\n",
    "from tqdm import tqdm\n",
    "import random\n",
    "\n",
    "device = torch.device(\"cuda\" if torch.cuda.is_available() else \"cpu\")\n",
    "torch.cuda.is_available()"
   ]
  },
  {
   "cell_type": "code",
   "execution_count": null,
   "metadata": {},
   "outputs": [],
   "source": [
    "data_train = torch.load('data_augment/segment_train_0.pt')\n",
    "data_val = torch.load('data_augment/segment_val_0.pt')"
   ]
  },
  {
   "cell_type": "code",
   "execution_count": null,
   "metadata": {},
   "outputs": [],
   "source": [
    "def extract_data(data_dict):\n",
    "    embeddings_list = []\n",
    "    states_list = []\n",
    "    \n",
    "    # Iterate through all sequences in the dictionary\n",
    "    for sequences in data_dict.values():\n",
    "        embeddings = sequences[0]\n",
    "        states = sequences[2]\n",
    "\n",
    "        embeddings_list.append(embeddings.reshape(-1, embeddings.shape[-1]))\n",
    "        states_list.append(states.reshape(-1))\n",
    "    \n",
    "    # Concatenate all embeddings and states\n",
    "    embeddings = torch.cat(embeddings_list, dim=0)\n",
    "    states = torch.cat(states_list, dim=0)\n",
    "    \n",
    "    return embeddings, states\n",
    "\n",
    "train_embeddings, train_states = extract_data(data_train)\n",
    "val_embeddings, val_states = extract_data(data_val)"
   ]
  },
  {
   "cell_type": "code",
   "execution_count": null,
   "metadata": {},
   "outputs": [],
   "source": [
    "import torch.nn.functional as F\n",
    "\n",
    "num_states = 629\n",
    "batch_size = 2**14\n",
    "\n",
    "train_dataset = TensorDataset(train_embeddings, train_states)\n",
    "val_dataset = TensorDataset(val_embeddings, val_states)\n",
    "\n",
    "train_loader = DataLoader(train_dataset, batch_size=batch_size, shuffle=True)\n",
    "val_loader = DataLoader(val_dataset, batch_size=batch_size, shuffle=False)"
   ]
  },
  {
   "cell_type": "code",
   "execution_count": null,
   "metadata": {},
   "outputs": [],
   "source": [
    "class MLPClassifier(nn.Module):\n",
    "    def __init__(self, input_size, hidden_size, output_dim):\n",
    "        super(MLPClassifier, self).__init__()\n",
    "        self.layers = nn.Sequential(\n",
    "            nn.Linear(input_size, hidden_size),\n",
    "            nn.ReLU(),\n",
    "            nn.Dropout(0.3),\n",
    "            nn.Linear(hidden_size, hidden_size),\n",
    "            nn.ReLU(),\n",
    "            nn.Dropout(0.3),\n",
    "            nn.Linear(hidden_size, output_dim)\n",
    "        )\n",
    "    \n",
    "    def forward(self, x):\n",
    "        return self.layers(x)\n",
    "\n",
    "input_size = train_dataset.tensors[0].shape[-1] \n",
    "model = MLPClassifier(input_size=input_size, hidden_size=128, output_dim=num_states).to(device)"
   ]
  },
  {
   "cell_type": "code",
   "execution_count": null,
   "metadata": {},
   "outputs": [],
   "source": [
    "def train_model(model, train_loader, val_loader, \n",
    "                num_epochs, lr):\n",
    "    criterion = nn.CrossEntropyLoss()\n",
    "    optimizer = optim.Adam(model.parameters(), lr=lr)\n",
    "\n",
    "    train_accs = []\n",
    "    val_accs = []\n",
    "\n",
    "    bar = tqdm(range(num_epochs))\n",
    "    for _ in bar:\n",
    "        # Training\n",
    "        model.train()\n",
    "        correct = 0\n",
    "        total = 0\n",
    "        \n",
    "        for embeddings, states in train_loader:\n",
    "            embeddings, states = embeddings.to(device), states.to(device)\n",
    "            \n",
    "            optimizer.zero_grad()\n",
    "            outputs = model(embeddings)\n",
    "            loss = criterion(outputs, states)\n",
    "            # l2_lambda = 1e-5\n",
    "            # l2_norm = sum(p.pow(2.0).sum() for p in model.parameters())\n",
    "            # loss = loss + l2_lambda * l2_norm\n",
    "            loss.backward()\n",
    "            optimizer.step()\n",
    "            \n",
    "            _, predicted = outputs.max(1)\n",
    "            total += states.size(0)\n",
    "            correct += predicted.eq(states).sum().item()\n",
    "        \n",
    "        train_acc = correct / total\n",
    "        train_accs.append(train_acc)\n",
    "\n",
    "        # Validation\n",
    "        model.eval()\n",
    "        correct = 0\n",
    "        total = 0\n",
    "        \n",
    "        with torch.no_grad():\n",
    "            for embeddings, states in val_loader:\n",
    "                embeddings, states = embeddings.to(device), states.to(device)\n",
    "                outputs = model(embeddings)\n",
    "                \n",
    "                _, predicted = outputs.max(1)\n",
    "                total += states.size(0)\n",
    "                correct += predicted.eq(states).sum().item()\n",
    "        \n",
    "        val_acc = correct / total\n",
    "        val_accs.append(val_acc)\n",
    "        \n",
    "        bar.set_postfix({\n",
    "            'Train Acc': train_acc,\n",
    "            'Val Acc': val_acc\n",
    "        })\n",
    "    return train_accs, val_accs\n",
    "\n",
    "train_accs, val_accs = train_model(model, train_loader, val_loader, 600, 1e-3)"
   ]
  },
  {
   "cell_type": "code",
   "execution_count": null,
   "metadata": {},
   "outputs": [],
   "source": [
    "import matplotlib.pyplot as plt\n",
    "\n",
    "plt.plot(range(len(train_accs)), train_accs, label='train')\n",
    "plt.plot(range(len(val_accs)), val_accs, label='val')\n",
    "plt.legend()\n",
    "plt.title('video')\n",
    "plt.show()"
   ]
  }
 ],
 "metadata": {
  "kernelspec": {
   "display_name": "AL",
   "language": "python",
   "name": "python3"
  },
  "language_info": {
   "codemirror_mode": {
    "name": "ipython",
    "version": 3
   },
   "file_extension": ".py",
   "mimetype": "text/x-python",
   "name": "python",
   "nbconvert_exporter": "python",
   "pygments_lexer": "ipython3",
   "version": "3.12.3"
  }
 },
 "nbformat": 4,
 "nbformat_minor": 2
}

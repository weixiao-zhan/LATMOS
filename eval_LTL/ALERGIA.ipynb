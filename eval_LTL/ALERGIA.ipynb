{
 "cells": [
  {
   "cell_type": "code",
   "execution_count": 1,
   "metadata": {},
   "outputs": [],
   "source": [
    "import numpy as np\n",
    "idx = 2\n",
    "data = np.load(f'data/spot_{idx}_0_0.npz')\n",
    "train_state_vectors = data['train_state_vectors']\n",
    "train_ap_vectors = data['train_ap_vectors']\n",
    "train_acceptance_vectors = data['train_acceptance_vectors']\n",
    "val_state_vectors = data['val_state_vectors']\n",
    "val_ap_vectors = data['val_ap_vectors']\n",
    "val_acceptance_vectors = data['val_acceptance_vectors']"
   ]
  },
  {
   "cell_type": "code",
   "execution_count": 3,
   "metadata": {},
   "outputs": [],
   "source": [
    "def transform_data(state_vector, ap_vector):\n",
    "    transformed_data = []\n",
    "    for trace_idx in range(len(state_vector)):\n",
    "        trace = []\n",
    "        states = state_vector[trace_idx]\n",
    "        trace.append(int(states[0]))\n",
    "        for state, ap in zip(states[1:], ap_vector[trace_idx]):\n",
    "            trace.append((tuple(ap.tolist()), int(state)))\n",
    "        transformed_data.append(trace)\n",
    "    return transformed_data\n",
    "transformed_data = transform_data(train_state_vectors, train_ap_vectors)"
   ]
  },
  {
   "cell_type": "code",
   "execution_count": null,
   "metadata": {},
   "outputs": [
    {
     "name": "stdout",
     "output_type": "stream",
     "text": [
      "Visualization started in the background thread.\n"
     ]
    },
    {
     "name": "stdout",
     "output_type": "stream",
     "text": [
      "Model saved to data/Aleria_2.pdf.\n"
     ]
    }
   ],
   "source": [
    "from aalpy.learning_algs import run_Alergia\n",
    "from aalpy.utils import visualize_automaton\n",
    "\n",
    "learned_automaton = run_Alergia(transformed_data, automaton_type='mdp')\n",
    "visualize_automaton(learned_automaton, path=f'data/Aleria_{idx}.pdf')"
   ]
  }
 ],
 "metadata": {
  "kernelspec": {
   "display_name": "AL",
   "language": "python",
   "name": "python3"
  },
  "language_info": {
   "codemirror_mode": {
    "name": "ipython",
    "version": 3
   },
   "file_extension": ".py",
   "mimetype": "text/x-python",
   "name": "python",
   "nbconvert_exporter": "python",
   "pygments_lexer": "ipython3",
   "version": "3.12.3"
  }
 },
 "nbformat": 4,
 "nbformat_minor": 2
}

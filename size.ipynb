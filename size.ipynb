{
 "cells": [
  {
   "cell_type": "code",
   "execution_count": null,
   "metadata": {},
   "outputs": [],
   "source": [
    "from LATMOS import *"
   ]
  },
  {
   "cell_type": "code",
   "execution_count": null,
   "metadata": {},
   "outputs": [],
   "source": [
    "gru_model = create_model('gru',\n",
    "                     input_size  = 16, \n",
    "                     hidden_size = 128, \n",
    "                     output_size = 1,\n",
    "                     device = torch.device('cuda'))\n",
    "gru_model.get_model_size()"
   ]
  },
  {
   "cell_type": "code",
   "execution_count": null,
   "metadata": {},
   "outputs": [],
   "source": [
    "attention_model = create_model('attention',\n",
    "                     input_size  = 16, \n",
    "                     hidden_size = 128, \n",
    "                     output_size = 1,\n",
    "                     device = torch.device('cuda'))\n",
    "attention_model.get_model_size()"
   ]
  },
  {
   "cell_type": "code",
   "execution_count": null,
   "metadata": {},
   "outputs": [],
   "source": [
    "ssm_model = create_model('ssm',\n",
    "                     input_size  = 16, \n",
    "                     hidden_size = 128, \n",
    "                     output_size = 1,\n",
    "                     device = torch.device('cuda'))\n",
    "ssm_model.get_model_size()"
   ]
  },
  {
   "cell_type": "code",
   "execution_count": null,
   "metadata": {},
   "outputs": [],
   "source": [
    "from torchviz import make_dot"
   ]
  },
  {
   "cell_type": "code",
   "execution_count": null,
   "metadata": {},
   "outputs": [],
   "source": [
    "dummy_input = torch.randn(1, 10, 16).to(torch.device('cuda'))\n",
    "viz = make_dot(ssm_model(dummy_input), params=dict(ssm_model.named_parameters()))\n",
    "viz.attr('graph', rankdir='LR')  # LR = left to right layout\n",
    "viz.attr('node', shape='box')\n",
    "viz.render('f_architecture', format='svg')"
   ]
  }
 ],
 "metadata": {
  "kernelspec": {
   "display_name": "AL",
   "language": "python",
   "name": "python3"
  },
  "language_info": {
   "codemirror_mode": {
    "name": "ipython",
    "version": 3
   },
   "file_extension": ".py",
   "mimetype": "text/x-python",
   "name": "python",
   "nbconvert_exporter": "python",
   "pygments_lexer": "ipython3",
   "version": "3.12.3"
  }
 },
 "nbformat": 4,
 "nbformat_minor": 2
}
